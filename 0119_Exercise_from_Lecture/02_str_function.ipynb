{
 "cells": [
  {
   "cell_type": "markdown",
   "id": "personal-sphere",
   "metadata": {},
   "source": [
    "# 문자열 \n",
    "- 시퀀스자료형으로 문자형 data를 메모리에 저장\n",
    "- 영문자 한글자는 1byte의 메모리공간을 사용"
   ]
  },
  {
   "cell_type": "code",
   "execution_count": 2,
   "id": "olive-synthetic",
   "metadata": {},
   "outputs": [
    {
     "name": "stdout",
     "output_type": "stream",
     "text": [
      "50 51 52\n"
     ]
    }
   ],
   "source": [
    "import sys # sys 모듈을 호출\n",
    "print (sys.getsizeof(\"a\"), sys.getsizeof(\"ab\"), sys.getsizeof(\"abc\"))"
   ]
  },
  {
   "cell_type": "markdown",
   "id": "elder-peninsula",
   "metadata": {},
   "source": [
    "- 문자열의각문자는개별주소(offset)를가짐\n",
    "- 이주소를사용해할당된값을가져오는것이인덱싱\n",
    "\n"
   ]
  },
  {
   "cell_type": "code",
   "execution_count": 4,
   "id": "affiliated-investigation",
   "metadata": {},
   "outputs": [
    {
     "name": "stdout",
     "output_type": "stream",
     "text": [
      "a e\n",
      "e a\n"
     ]
    }
   ],
   "source": [
    "a = \"abcde\"\n",
    "print (a[0], a[4]) \n",
    "print (a[-1], a[-5]) "
   ]
  },
  {
   "cell_type": "markdown",
   "id": "baking-milton",
   "metadata": {},
   "source": [
    "# Str Function\n"
   ]
  },
  {
   "cell_type": "markdown",
   "id": "limiting-event",
   "metadata": {},
   "source": [
    "> 문자열 함수 1\n"
   ]
  },
  {
   "cell_type": "markdown",
   "id": "casual-revelation",
   "metadata": {},
   "source": [
    "    1) len() : 문자열의 문자개수를 반환\n",
    "    2) upper() : 대문자로 변환\n",
    "    3) lower() : 소문자로 변환\n",
    "    4) capitalize() : 첫문자를 대문자로 변환\n",
    "    5) title() : 제목형태로 변환, 띄어쓰기 후 첫 글자만 대문자\n",
    "    6) count('bc') : 문자열 a에 'bc'가 들어간 횟수 반환\n",
    "    7) find('bc') : 문자열 a에 'bc'가 들어간 위치(오프셋) 반환\n",
    "    8) rfind('bc') : 문자열 a에 'bc'가 들어간 위치(오프셋) 반환\n",
    "    9) startswith('bc') : 문자열 a는 'bc'로 시작하는 문자열여부 반환\n",
    "    10) endswith('bc') : 문자열 a는 'bc'로 끝나는 문자열여부 반환"
   ]
  },
  {
   "cell_type": "code",
   "execution_count": 18,
   "id": "digital-remove",
   "metadata": {},
   "outputs": [],
   "source": [
    "mystr = \"BoOst Camp X UP stage\""
   ]
  },
  {
   "cell_type": "code",
   "execution_count": 19,
   "id": "unique-motor",
   "metadata": {},
   "outputs": [
    {
     "data": {
      "text/plain": [
       "21"
      ]
     },
     "execution_count": 19,
     "metadata": {},
     "output_type": "execute_result"
    }
   ],
   "source": [
    "len(mystr)"
   ]
  },
  {
   "cell_type": "code",
   "execution_count": 20,
   "id": "digital-glossary",
   "metadata": {},
   "outputs": [
    {
     "data": {
      "text/plain": [
       "'BOOST CAMP X UP STAGE'"
      ]
     },
     "execution_count": 20,
     "metadata": {},
     "output_type": "execute_result"
    }
   ],
   "source": [
    "mystr.upper()"
   ]
  },
  {
   "cell_type": "code",
   "execution_count": 21,
   "id": "reverse-subcommittee",
   "metadata": {},
   "outputs": [
    {
     "data": {
      "text/plain": [
       "'boost camp x up stage'"
      ]
     },
     "execution_count": 21,
     "metadata": {},
     "output_type": "execute_result"
    }
   ],
   "source": [
    "mystr.lower()"
   ]
  },
  {
   "cell_type": "code",
   "execution_count": 22,
   "id": "exclusive-brass",
   "metadata": {},
   "outputs": [
    {
     "data": {
      "text/plain": [
       "'Boost camp x up stage'"
      ]
     },
     "execution_count": 22,
     "metadata": {},
     "output_type": "execute_result"
    }
   ],
   "source": [
    "mystr.capitalize()"
   ]
  },
  {
   "cell_type": "code",
   "execution_count": 23,
   "id": "advanced-phoenix",
   "metadata": {},
   "outputs": [
    {
     "data": {
      "text/plain": [
       "'Boost Camp X Up Stage'"
      ]
     },
     "execution_count": 23,
     "metadata": {},
     "output_type": "execute_result"
    }
   ],
   "source": [
    "mystr.title()"
   ]
  },
  {
   "cell_type": "code",
   "execution_count": 27,
   "id": "excited-proposal",
   "metadata": {},
   "outputs": [
    {
     "name": "stdout",
     "output_type": "stream",
     "text": [
      "0\n",
      "2\n"
     ]
    }
   ],
   "source": [
    "print(mystr.count('bc'))\n",
    "print(mystr.count('st'))"
   ]
  },
  {
   "cell_type": "code",
   "execution_count": 28,
   "id": "lyric-arabic",
   "metadata": {},
   "outputs": [
    {
     "data": {
      "text/plain": [
       "3"
      ]
     },
     "execution_count": 28,
     "metadata": {},
     "output_type": "execute_result"
    }
   ],
   "source": [
    "mystr.find('st')"
   ]
  },
  {
   "cell_type": "code",
   "execution_count": 29,
   "id": "suspected-ukraine",
   "metadata": {},
   "outputs": [
    {
     "data": {
      "text/plain": [
       "16"
      ]
     },
     "execution_count": 29,
     "metadata": {},
     "output_type": "execute_result"
    }
   ],
   "source": [
    "mystr.rfind('st')"
   ]
  },
  {
   "cell_type": "code",
   "execution_count": 30,
   "id": "adaptive-chair",
   "metadata": {},
   "outputs": [
    {
     "data": {
      "text/plain": [
       "True"
      ]
     },
     "execution_count": 30,
     "metadata": {},
     "output_type": "execute_result"
    }
   ],
   "source": [
    "mystr.startswith('BoOst')"
   ]
  },
  {
   "cell_type": "code",
   "execution_count": 31,
   "id": "proud-firewall",
   "metadata": {
    "scrolled": true
   },
   "outputs": [
    {
     "data": {
      "text/plain": [
       "True"
      ]
     },
     "execution_count": 31,
     "metadata": {},
     "output_type": "execute_result"
    }
   ],
   "source": [
    "mystr.endswith('stage')"
   ]
  },
  {
   "cell_type": "markdown",
   "id": "missing-watch",
   "metadata": {},
   "source": [
    "> 문자열 함수2\n"
   ]
  },
  {
   "cell_type": "markdown",
   "id": "stainless-fluid",
   "metadata": {},
   "source": [
    "    11) strip() 좌우 공백 제거\n",
    "    12) rstrip() 오른쪽 공백 제거\n",
    "    13) lstrip() 왼쪽 공백 제거\n",
    "    14) split() 공백을 기준으로 나눠 리스트로\n",
    "    15) split('abc') abc를 기준으로 나눠 리스트로\n",
    "    16) isdigit() 문자열이 숫자인지 여부\n",
    "    17) islower() 문자열이 소문자인지 여부\n",
    "    18) isupper()"
   ]
  },
  {
   "cell_type": "code",
   "execution_count": 32,
   "id": "framed-basics",
   "metadata": {},
   "outputs": [
    {
     "data": {
      "text/plain": [
       "'Hello'"
      ]
     },
     "execution_count": 32,
     "metadata": {},
     "output_type": "execute_result"
    }
   ],
   "source": [
    "A = '   Hello    '\n",
    "A.strip()"
   ]
  },
  {
   "cell_type": "code",
   "execution_count": 33,
   "id": "northern-avatar",
   "metadata": {},
   "outputs": [
    {
     "data": {
      "text/plain": [
       "'   Hello'"
      ]
     },
     "execution_count": 33,
     "metadata": {},
     "output_type": "execute_result"
    }
   ],
   "source": [
    "A.rstrip()"
   ]
  },
  {
   "cell_type": "code",
   "execution_count": 34,
   "id": "photographic-legislation",
   "metadata": {},
   "outputs": [
    {
     "data": {
      "text/plain": [
       "'Hello    '"
      ]
     },
     "execution_count": 34,
     "metadata": {},
     "output_type": "execute_result"
    }
   ],
   "source": [
    "A.lstrip()"
   ]
  },
  {
   "cell_type": "code",
   "execution_count": 35,
   "id": "distributed-truth",
   "metadata": {},
   "outputs": [
    {
     "data": {
      "text/plain": [
       "['Q', 'W', 'E', 'R', 'T', 'Y']"
      ]
     },
     "execution_count": 35,
     "metadata": {},
     "output_type": "execute_result"
    }
   ],
   "source": [
    "B = 'Q W E R T Y'\n",
    "B.split()"
   ]
  },
  {
   "cell_type": "code",
   "execution_count": 37,
   "id": "eastern-shield",
   "metadata": {},
   "outputs": [
    {
     "data": {
      "text/plain": [
       "['Q ', ' E R T Y']"
      ]
     },
     "execution_count": 37,
     "metadata": {},
     "output_type": "execute_result"
    }
   ],
   "source": [
    "B.split('W')"
   ]
  },
  {
   "cell_type": "code",
   "execution_count": 39,
   "id": "straight-malaysia",
   "metadata": {},
   "outputs": [
    {
     "data": {
      "text/plain": [
       "True"
      ]
     },
     "execution_count": 39,
     "metadata": {},
     "output_type": "execute_result"
    }
   ],
   "source": [
    "'12345'.isdigit()"
   ]
  },
  {
   "cell_type": "code",
   "execution_count": 40,
   "id": "declared-shape",
   "metadata": {},
   "outputs": [
    {
     "ename": "SyntaxError",
     "evalue": "invalid syntax (<ipython-input-40-11e7faa77f03>, line 1)",
     "output_type": "error",
     "traceback": [
      "\u001b[1;36m  File \u001b[1;32m\"<ipython-input-40-11e7faa77f03>\"\u001b[1;36m, line \u001b[1;32m1\u001b[0m\n\u001b[1;33m    12345.isdigit()\u001b[0m\n\u001b[1;37m          ^\u001b[0m\n\u001b[1;31mSyntaxError\u001b[0m\u001b[1;31m:\u001b[0m invalid syntax\n"
     ]
    }
   ],
   "source": [
    "12345.isdigit()"
   ]
  },
  {
   "cell_type": "code",
   "execution_count": 41,
   "id": "exact-mayor",
   "metadata": {},
   "outputs": [
    {
     "data": {
      "text/plain": [
       "True"
      ]
     },
     "execution_count": 41,
     "metadata": {},
     "output_type": "execute_result"
    }
   ],
   "source": [
    "'QWERY'.isupper()"
   ]
  },
  {
   "cell_type": "code",
   "execution_count": 42,
   "id": "pleased-frame",
   "metadata": {},
   "outputs": [
    {
     "data": {
      "text/plain": [
       "False"
      ]
     },
     "execution_count": 42,
     "metadata": {},
     "output_type": "execute_result"
    }
   ],
   "source": [
    "'QWERy'.isupper()"
   ]
  },
  {
   "cell_type": "code",
   "execution_count": 43,
   "id": "requested-poverty",
   "metadata": {},
   "outputs": [
    {
     "data": {
      "text/plain": [
       "False"
      ]
     },
     "execution_count": 43,
     "metadata": {},
     "output_type": "execute_result"
    }
   ],
   "source": [
    "'QWERy'.islower()"
   ]
  },
  {
   "cell_type": "code",
   "execution_count": 44,
   "id": "worse-quantity",
   "metadata": {},
   "outputs": [
    {
     "data": {
      "text/plain": [
       "True"
      ]
     },
     "execution_count": 44,
     "metadata": {},
     "output_type": "execute_result"
    }
   ],
   "source": [
    "'qwer'.islower()"
   ]
  },
  {
   "cell_type": "markdown",
   "id": "welcome-recorder",
   "metadata": {},
   "source": [
    "# Scoping Rule\n",
    "- 지역변수(local variable) : 함수내에서만 사용\n",
    "- 전역변수(Global variable) : 프로그램전체에서 사용\n",
    "## Swap\n",
    "변수 간의 값을 교환(SWAP)할 수 있는 함수\n"
   ]
  },
  {
   "cell_type": "code",
   "execution_count": 73,
   "id": "animated-senate",
   "metadata": {},
   "outputs": [],
   "source": [
    "def swap_value (x, y):\n",
    "    temp = x\n",
    "    x = y\n",
    "    y = temp"
   ]
  },
  {
   "cell_type": "code",
   "execution_count": 74,
   "id": "soviet-kenya",
   "metadata": {},
   "outputs": [],
   "source": [
    "def swap_offset (offset_x, offset_y):\n",
    "    temp = input_list[offset_x]\n",
    "    input_list[offset_x] = input_list[offset_y]\n",
    "    input_list[offset_y] = temp"
   ]
  },
  {
   "cell_type": "code",
   "execution_count": 75,
   "id": "german-trinity",
   "metadata": {},
   "outputs": [],
   "source": [
    "def swap_reference (input_list, offset_x, offset_y):\n",
    "    temp = input_list[offset_x]\n",
    "    input_list[offset_x] = input_list[offset_y]\n",
    "    input_list[offset_y] = temp"
   ]
  },
  {
   "cell_type": "code",
   "execution_count": 76,
   "id": "superb-waterproof",
   "metadata": {},
   "outputs": [],
   "source": [
    "input_list = [5,6,7,8,9]"
   ]
  },
  {
   "cell_type": "code",
   "execution_count": 77,
   "id": "legitimate-senegal",
   "metadata": {},
   "outputs": [
    {
     "data": {
      "text/plain": [
       "[5, 6, 7, 8, 9]"
      ]
     },
     "execution_count": 77,
     "metadata": {},
     "output_type": "execute_result"
    }
   ],
   "source": [
    "swap_value(input_list[0],input_list[1])\n",
    "input_list"
   ]
  },
  {
   "cell_type": "code",
   "execution_count": 78,
   "id": "colonial-manufacturer",
   "metadata": {},
   "outputs": [
    {
     "data": {
      "text/plain": [
       "[6, 5, 7, 8, 9]"
      ]
     },
     "execution_count": 78,
     "metadata": {},
     "output_type": "execute_result"
    }
   ],
   "source": [
    "swap_offset(0,1) # input_list라는 전역변수값을 직접 수정했음.\n",
    "input_list"
   ]
  },
  {
   "cell_type": "code",
   "execution_count": 79,
   "id": "noticed-administrator",
   "metadata": {},
   "outputs": [
    {
     "data": {
      "text/plain": [
       "[6, 5, 7, 9, 8]"
      ]
     },
     "execution_count": 79,
     "metadata": {},
     "output_type": "execute_result"
    }
   ],
   "source": [
    "swap_reference(input_list, 3,4) # input_list 객체의 주소 값을 받아 값을 변경\n",
    "input_list"
   ]
  },
  {
   "cell_type": "markdown",
   "id": "practical-review",
   "metadata": {},
   "source": [
    "**※**  이외에 알아둬야할 것들\n",
    "\n",
    ">function type hints\n"
   ]
  },
  {
   "cell_type": "markdown",
   "id": "fallen-relation",
   "metadata": {},
   "source": [
    "\n",
    "- Type hints의 장점\n",
    "    \n",
    "    (1) 사용자에게 인터페이스를 명확히 알려줄 수 있다.\n",
    "    \n",
    "    (2) 함수의 문서화시 parameter에 대한 정보를 명확히 알 수 있다.\n",
    "    \n",
    "    (3) mypy 또는 IDE, linter 등을 통해 코드의 발생 가능한 오류를 사전에 확인\n",
    "    \n",
    "    (4) 시스템 전체적인 안정성을 확보할 수 있다."
   ]
  },
  {
   "cell_type": "code",
   "execution_count": 80,
   "id": "systematic-worthy",
   "metadata": {},
   "outputs": [],
   "source": [
    "def type_hint_example(name: str) -> str:\n",
    "    return f\"Hello, {name}\""
   ]
  },
  {
   "cell_type": "code",
   "execution_count": 82,
   "id": "level-gateway",
   "metadata": {},
   "outputs": [
    {
     "data": {
      "text/plain": [
       "'Hello, Moon'"
      ]
     },
     "execution_count": 82,
     "metadata": {},
     "output_type": "execute_result"
    }
   ],
   "source": [
    "type_hint_example('Moon')"
   ]
  },
  {
   "cell_type": "code",
   "execution_count": null,
   "id": "prescribed-litigation",
   "metadata": {},
   "outputs": [],
   "source": [
    "def insert(self, index: int, module: Module) -> None:\n",
    "    r\"\"\"Insert a given module before a given index in the list.\n",
    "    Args:\n",
    "        index (int): index to insert.\n",
    "        module (nn.Module): module to insert\n",
    "    \"\"\"\n",
    "    for i in range(len(self._modules), index, -1):\n",
    "        self._modules[str(i)] = self._modules[str(i - 1)]\n",
    "    self._modules[str(index)] = module\n"
   ]
  }
 ],
 "metadata": {
  "kernelspec": {
   "display_name": "Python 3",
   "language": "python",
   "name": "python3"
  },
  "language_info": {
   "codemirror_mode": {
    "name": "ipython",
    "version": 3
   },
   "file_extension": ".py",
   "mimetype": "text/x-python",
   "name": "python",
   "nbconvert_exporter": "python",
   "pygments_lexer": "ipython3",
   "version": "3.8.7"
  },
  "toc": {
   "base_numbering": 1,
   "nav_menu": {},
   "number_sections": true,
   "sideBar": true,
   "skip_h1_title": false,
   "title_cell": "Table of Contents",
   "title_sidebar": "Contents",
   "toc_cell": false,
   "toc_position": {},
   "toc_section_display": true,
   "toc_window_display": false
  }
 },
 "nbformat": 4,
 "nbformat_minor": 5
}
