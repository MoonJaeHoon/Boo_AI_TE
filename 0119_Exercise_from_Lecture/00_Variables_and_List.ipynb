{
 "cells": [
  {
   "cell_type": "markdown",
   "id": "rental-sampling",
   "metadata": {},
   "source": [
    "# 1. Variables\n",
    "- 변수는 어디에 저장되는가?\n",
    "- 프로그래밍에서 변수는 값이 저장되는 저장소\n",
    "- 변수는 메모리 주소를 가지고 있고 변수에 들어가는 값은 메모리 주소에 할당됨"
   ]
  },
  {
   "cell_type": "code",
   "execution_count": 1,
   "id": "alpha-windsor",
   "metadata": {},
   "outputs": [
    {
     "data": {
      "text/plain": [
       "7"
      ]
     },
     "execution_count": 1,
     "metadata": {},
     "output_type": "execute_result"
    }
   ],
   "source": [
    "a = 3 # a라는 변수에 3이라는 값이 저장된다\n",
    "b = 4 # b라는 변수에 4라는 값이 저장된다.\n",
    "a+b"
   ]
  },
  {
   "cell_type": "code",
   "execution_count": 2,
   "id": "better-economics",
   "metadata": {},
   "outputs": [
    {
     "name": "stdout",
     "output_type": "stream",
     "text": [
      "a의 객체 고유값은 140726973236976\n",
      "b의 객체 고유값은 140726973237008\n"
     ]
    }
   ],
   "source": [
    "# 메모리 위에선 어디에 저장될까?\n",
    "# id는 메모리 주소값을 알아보는 함수이다.\n",
    "print(f'a의 객체 고유값은 {id(a)}')\n",
    "print(f'b의 객체 고유값은 {id(b)}')"
   ]
  },
  {
   "cell_type": "markdown",
   "id": "interstate-heath",
   "metadata": {},
   "source": [
    "# 2. 변수명 저장법\n",
    "    1) 알파벳, 숫자, 언더스코어(_)로 선언가능\n",
    "    2) 변수명은 의미있는 단어로 표기하는 것이 좋다.\n",
    "    3) 변수명은 대소문자가 구분된다.\n",
    "    4) 특별한 의미가 있는 예약어는 쓰지 않는다"
   ]
  },
  {
   "cell_type": "code",
   "execution_count": 3,
   "id": "continuous-textbook",
   "metadata": {},
   "outputs": [],
   "source": [
    "professor_name = 'SungChul Choi'\n",
    "student_name = \"Kim\"\n",
    "Abc = 0 #대문자\n",
    "abc = 10 #소문자"
   ]
  },
  {
   "cell_type": "code",
   "execution_count": 4,
   "id": "decent-seven",
   "metadata": {},
   "outputs": [
    {
     "name": "stdout",
     "output_type": "stream",
     "text": [
      "SungChul Choi\n",
      "Kim\n",
      "0\n",
      "10\n"
     ]
    }
   ],
   "source": [
    "print(professor_name)\n",
    "print(student_name)\n",
    "print(Abc)\n",
    "print(abc)\n"
   ]
  },
  {
   "cell_type": "markdown",
   "id": "explicit-closure",
   "metadata": {},
   "source": [
    "> 예약어를 변수명으로 지정해선 안된다"
   ]
  },
  {
   "cell_type": "code",
   "execution_count": 5,
   "id": "selected-spank",
   "metadata": {},
   "outputs": [
    {
     "ename": "SyntaxError",
     "evalue": "invalid syntax (<ipython-input-5-f096fd0688eb>, line 1)",
     "output_type": "error",
     "traceback": [
      "\u001b[1;36m  File \u001b[1;32m\"<ipython-input-5-f096fd0688eb>\"\u001b[1;36m, line \u001b[1;32m1\u001b[0m\n\u001b[1;33m    for = 0\u001b[0m\n\u001b[1;37m        ^\u001b[0m\n\u001b[1;31mSyntaxError\u001b[0m\u001b[1;31m:\u001b[0m invalid syntax\n"
     ]
    }
   ],
   "source": [
    "for = 0"
   ]
  },
  {
   "cell_type": "markdown",
   "id": "organic-bridge",
   "metadata": {},
   "source": [
    "# 3. 간단한 연산 (Basic Operation)\n",
    "    1) 기본자료형 (primitive data type)\n",
    "    2) 연산자와 피연산자\n",
    "    3) 데이터 형변환"
   ]
  },
  {
   "cell_type": "markdown",
   "id": "instant-customs",
   "metadata": {},
   "source": [
    "> 기본자료형"
   ]
  },
  {
   "cell_type": "code",
   "execution_count": 19,
   "id": "charitable-anchor",
   "metadata": {},
   "outputs": [],
   "source": [
    "data1 = 1 # integer\n",
    "data2 = 9.0 # float\n",
    "data3 = 'abc' # string\n",
    "data4 = True # boolean"
   ]
  },
  {
   "cell_type": "code",
   "execution_count": 20,
   "id": "generous-retro",
   "metadata": {},
   "outputs": [
    {
     "name": "stdout",
     "output_type": "stream",
     "text": [
      "<class 'int'>\n",
      "<class 'float'>\n",
      "<class 'str'>\n",
      "<class 'bool'>\n"
     ]
    }
   ],
   "source": [
    "print(type(data1))\n",
    "print(type(data2))\n",
    "print(type(data3))\n",
    "print(type(data4))\n"
   ]
  },
  {
   "cell_type": "code",
   "execution_count": 21,
   "id": "continent-throat",
   "metadata": {},
   "outputs": [
    {
     "name": "stdout",
     "output_type": "stream",
     "text": [
      "True\n"
     ]
    }
   ],
   "source": [
    "first = 100\n",
    "second = 100\n",
    "print(first==second)"
   ]
  },
  {
   "cell_type": "markdown",
   "id": "selective-simulation",
   "metadata": {},
   "source": [
    ">연산자와 피연산자"
   ]
  },
  {
   "cell_type": "code",
   "execution_count": 22,
   "id": "limiting-charge",
   "metadata": {},
   "outputs": [
    {
     "data": {
      "text/plain": [
       "5"
      ]
     },
     "execution_count": 22,
     "metadata": {},
     "output_type": "execute_result"
    }
   ],
   "source": [
    "3+2 # 3과 2는 피연산자, +는 연산자"
   ]
  },
  {
   "cell_type": "code",
   "execution_count": 23,
   "id": "broken-studio",
   "metadata": {},
   "outputs": [
    {
     "data": {
      "text/plain": [
       "6"
      ]
     },
     "execution_count": 23,
     "metadata": {},
     "output_type": "execute_result"
    }
   ],
   "source": [
    "3*2"
   ]
  },
  {
   "cell_type": "code",
   "execution_count": 24,
   "id": "pharmaceutical-ceremony",
   "metadata": {
    "scrolled": true
   },
   "outputs": [
    {
     "data": {
      "text/plain": [
       "9"
      ]
     },
     "execution_count": 24,
     "metadata": {},
     "output_type": "execute_result"
    }
   ],
   "source": [
    "3**2"
   ]
  },
  {
   "cell_type": "markdown",
   "id": "neither-presentation",
   "metadata": {},
   "source": [
    ">데이터형변환"
   ]
  },
  {
   "cell_type": "code",
   "execution_count": 25,
   "id": "female-warehouse",
   "metadata": {},
   "outputs": [
    {
     "name": "stdout",
     "output_type": "stream",
     "text": [
      "9\n",
      "9\n"
     ]
    }
   ],
   "source": [
    "# float => int : int()함수는 소수점 이하 내림 (버림, 반올림이 아니다)\n",
    "a = 9.7\n",
    "b = 9.3\n",
    "print(int(a))\n",
    "print(int(b))"
   ]
  },
  {
   "cell_type": "markdown",
   "id": "joined-bones",
   "metadata": {},
   "source": [
    ">컴퓨터의 반올림 오차"
   ]
  },
  {
   "cell_type": "code",
   "execution_count": 26,
   "id": "located-trainer",
   "metadata": {},
   "outputs": [
    {
     "name": "stdout",
     "output_type": "stream",
     "text": [
      "0.30000000000000004\n"
     ]
    },
    {
     "data": {
      "text/plain": [
       "0.30000000000000004"
      ]
     },
     "execution_count": 26,
     "metadata": {},
     "output_type": "execute_result"
    }
   ],
   "source": [
    "a = 0.1 * 3\n",
    "print(a)\n",
    "a"
   ]
  },
  {
   "cell_type": "markdown",
   "id": "honey-thought",
   "metadata": {},
   "source": [
    "# 4. 리스트"
   ]
  },
  {
   "cell_type": "markdown",
   "id": "traditional-question",
   "metadata": {},
   "source": [
    ">인덱싱 슬라이싱"
   ]
  },
  {
   "cell_type": "code",
   "execution_count": 27,
   "id": "digital-spider",
   "metadata": {},
   "outputs": [
    {
     "name": "stdout",
     "output_type": "stream",
     "text": [
      "red\n",
      "green\n",
      "3\n"
     ]
    }
   ],
   "source": [
    "colors = ['red','blue','green']\n",
    "print(colors[0])\n",
    "print(colors[2])\n",
    "print(len(colors)) # 리스트의 길이"
   ]
  },
  {
   "cell_type": "code",
   "execution_count": 28,
   "id": "alternative-climate",
   "metadata": {},
   "outputs": [],
   "source": [
    "cities = ['서울','부산','인천','대구','대전','광주','울산','수원']"
   ]
  },
  {
   "cell_type": "code",
   "execution_count": 29,
   "id": "convinced-aggregate",
   "metadata": {},
   "outputs": [
    {
     "name": "stdout",
     "output_type": "stream",
     "text": [
      "['서울', '부산', '인천', '대구', '대전', '광주']\n",
      "['서울', '부산', '인천', '대구', '대전', '광주', '울산', '수원']\n",
      "['서울', '부산', '인천', '대구', '대전', '광주', '울산', '수원']\n",
      "['서울', '부산', '인천', '대구', '대전', '광주', '울산', '수원']\n",
      "['서울', '인천', '대전', '울산']\n",
      "['수원', '울산', '광주', '대전', '대구', '인천', '부산', '서울']\n"
     ]
    }
   ],
   "source": [
    "print(cities[0:6])\n",
    "print(cities[-9:])\n",
    "print(cities[:])\n",
    "print(cities[-50:50]) # 범위 넘어갈 경우 자동으로 최대 범위를 지정\n",
    "print(cities[::2]) # 2칸 단위로 슬라이싱\n",
    "print(cities[::-1]) # 순서 역으로 슬라이싱"
   ]
  },
  {
   "cell_type": "markdown",
   "id": "sensitive-hebrew",
   "metadata": {},
   "source": [
    ">리스트의 연산 -추가와 삭제"
   ]
  },
  {
   "cell_type": "code",
   "execution_count": 30,
   "id": "architectural-worry",
   "metadata": {},
   "outputs": [],
   "source": [
    "color = ['red','blue','green']\n",
    "color2 = ['orange','black','white']"
   ]
  },
  {
   "cell_type": "markdown",
   "id": "beginning-shipping",
   "metadata": {},
   "source": [
    ">concatenation"
   ]
  },
  {
   "cell_type": "code",
   "execution_count": 31,
   "id": "willing-cedar",
   "metadata": {},
   "outputs": [
    {
     "data": {
      "text/plain": [
       "['red', 'blue', 'green', 'orange', 'black', 'white']"
      ]
     },
     "execution_count": 31,
     "metadata": {},
     "output_type": "execute_result"
    }
   ],
   "source": [
    "color+color2"
   ]
  },
  {
   "cell_type": "markdown",
   "id": "based-jones",
   "metadata": {},
   "source": [
    ">할당"
   ]
  },
  {
   "cell_type": "code",
   "execution_count": 32,
   "id": "confidential-animation",
   "metadata": {},
   "outputs": [],
   "source": [
    "color[0]='yellow'"
   ]
  },
  {
   "cell_type": "markdown",
   "id": "grand-dallas",
   "metadata": {},
   "source": [
    "> *n : n번 반복, concatenation"
   ]
  },
  {
   "cell_type": "code",
   "execution_count": 33,
   "id": "willing-factor",
   "metadata": {},
   "outputs": [
    {
     "data": {
      "text/plain": [
       "['yellow', 'blue', 'green', 'yellow', 'blue', 'green']"
      ]
     },
     "execution_count": 33,
     "metadata": {},
     "output_type": "execute_result"
    }
   ],
   "source": [
    "color*2"
   ]
  },
  {
   "cell_type": "markdown",
   "id": "acting-czech",
   "metadata": {},
   "source": [
    "> in 연산자"
   ]
  },
  {
   "cell_type": "code",
   "execution_count": 34,
   "id": "labeled-fellowship",
   "metadata": {},
   "outputs": [
    {
     "data": {
      "text/plain": [
       "True"
      ]
     },
     "execution_count": 34,
     "metadata": {},
     "output_type": "execute_result"
    }
   ],
   "source": [
    "'blue' in color"
   ]
  },
  {
   "cell_type": "code",
   "execution_count": 35,
   "id": "positive-hayes",
   "metadata": {},
   "outputs": [
    {
     "data": {
      "text/plain": [
       "False"
      ]
     },
     "execution_count": 35,
     "metadata": {},
     "output_type": "execute_result"
    }
   ],
   "source": [
    "'blue' in color2"
   ]
  },
  {
   "cell_type": "markdown",
   "id": "varying-fetish",
   "metadata": {},
   "source": [
    ">append : 인자로 리스트 원소가 될 부분을 받음"
   ]
  },
  {
   "cell_type": "code",
   "execution_count": 36,
   "id": "naval-kitty",
   "metadata": {},
   "outputs": [],
   "source": [
    "color.append('white')"
   ]
  },
  {
   "cell_type": "code",
   "execution_count": 37,
   "id": "together-gallery",
   "metadata": {},
   "outputs": [
    {
     "data": {
      "text/plain": [
       "['yellow', 'blue', 'green', 'white']"
      ]
     },
     "execution_count": 37,
     "metadata": {},
     "output_type": "execute_result"
    }
   ],
   "source": [
    "color"
   ]
  },
  {
   "cell_type": "markdown",
   "id": "oriental-plate",
   "metadata": {},
   "source": [
    ">extend : 인자로 리스트를 받음"
   ]
  },
  {
   "cell_type": "code",
   "execution_count": 38,
   "id": "corresponding-finance",
   "metadata": {},
   "outputs": [],
   "source": [
    "color.extend(['black','purple'])"
   ]
  },
  {
   "cell_type": "code",
   "execution_count": 39,
   "id": "rising-equivalent",
   "metadata": {},
   "outputs": [
    {
     "data": {
      "text/plain": [
       "['yellow', 'blue', 'green', 'white', 'black', 'purple']"
      ]
     },
     "execution_count": 39,
     "metadata": {},
     "output_type": "execute_result"
    }
   ],
   "source": [
    "color"
   ]
  },
  {
   "cell_type": "markdown",
   "id": "civil-rehabilitation",
   "metadata": {},
   "source": [
    ">del, remove"
   ]
  },
  {
   "cell_type": "code",
   "execution_count": 40,
   "id": "dominican-underground",
   "metadata": {},
   "outputs": [],
   "source": [
    "del color[0]"
   ]
  },
  {
   "cell_type": "code",
   "execution_count": 41,
   "id": "random-milton",
   "metadata": {},
   "outputs": [
    {
     "data": {
      "text/plain": [
       "['blue', 'green', 'white', 'black', 'purple']"
      ]
     },
     "execution_count": 41,
     "metadata": {},
     "output_type": "execute_result"
    }
   ],
   "source": [
    "color"
   ]
  },
  {
   "cell_type": "code",
   "execution_count": 42,
   "id": "lucky-stomach",
   "metadata": {},
   "outputs": [],
   "source": [
    "color.remove('blue')"
   ]
  },
  {
   "cell_type": "code",
   "execution_count": 43,
   "id": "anonymous-rwanda",
   "metadata": {},
   "outputs": [
    {
     "data": {
      "text/plain": [
       "['green', 'white', 'black', 'purple']"
      ]
     },
     "execution_count": 43,
     "metadata": {},
     "output_type": "execute_result"
    }
   ],
   "source": [
    "color"
   ]
  },
  {
   "cell_type": "markdown",
   "id": "attractive-incidence",
   "metadata": {},
   "source": [
    "> sort, sorted"
   ]
  },
  {
   "cell_type": "code",
   "execution_count": 44,
   "id": "obvious-update",
   "metadata": {},
   "outputs": [],
   "source": [
    "a = [5,4,3,2,2,1]"
   ]
  },
  {
   "cell_type": "code",
   "execution_count": 45,
   "id": "impressive-reviewer",
   "metadata": {},
   "outputs": [
    {
     "data": {
      "text/plain": [
       "[1, 2, 2, 3, 4, 5]"
      ]
     },
     "execution_count": 45,
     "metadata": {},
     "output_type": "execute_result"
    }
   ],
   "source": [
    "sorted(a)"
   ]
  },
  {
   "cell_type": "code",
   "execution_count": 48,
   "id": "dependent-algorithm",
   "metadata": {},
   "outputs": [],
   "source": [
    "b = [9,7,6,5,4,3]"
   ]
  },
  {
   "cell_type": "code",
   "execution_count": 49,
   "id": "medieval-blank",
   "metadata": {},
   "outputs": [],
   "source": [
    "b.sort()"
   ]
  },
  {
   "cell_type": "code",
   "execution_count": 50,
   "id": "substantial-steps",
   "metadata": {},
   "outputs": [
    {
     "data": {
      "text/plain": [
       "[3, 4, 5, 6, 7, 9]"
      ]
     },
     "execution_count": 50,
     "metadata": {},
     "output_type": "execute_result"
    }
   ],
   "source": [
    "b"
   ]
  },
  {
   "cell_type": "code",
   "execution_count": null,
   "id": "floating-exploration",
   "metadata": {},
   "outputs": [],
   "source": []
  }
 ],
 "metadata": {
  "kernelspec": {
   "display_name": "Python 3",
   "language": "python",
   "name": "python3"
  },
  "language_info": {
   "codemirror_mode": {
    "name": "ipython",
    "version": 3
   },
   "file_extension": ".py",
   "mimetype": "text/x-python",
   "name": "python",
   "nbconvert_exporter": "python",
   "pygments_lexer": "ipython3",
   "version": "3.8.7"
  },
  "toc": {
   "base_numbering": 1,
   "nav_menu": {},
   "number_sections": true,
   "sideBar": true,
   "skip_h1_title": false,
   "title_cell": "Table of Contents",
   "title_sidebar": "Contents",
   "toc_cell": false,
   "toc_position": {},
   "toc_section_display": true,
   "toc_window_display": false
  }
 },
 "nbformat": 4,
 "nbformat_minor": 5
}
