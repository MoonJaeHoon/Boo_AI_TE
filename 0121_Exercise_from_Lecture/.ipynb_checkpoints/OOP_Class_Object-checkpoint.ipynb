{
 "cells": [
  {
   "cell_type": "markdown",
   "id": "buried-perry",
   "metadata": {},
   "source": [
    "# Object-Oriented Programming, OOP\n",
    "\n",
    "- 파이썬은 객체 지향 프로그램 언어이다 (OOP)\n",
    "\n",
    "- 객체 : 속성과 행동을 가지는 일종의 물건\n",
    "   \n",
    "- OOP는 속성 - 변수(variable), 행동 - 함수(method)로 객체개념을 표현함."
   ]
  },
  {
   "cell_type": "markdown",
   "id": "official-baptist",
   "metadata": {},
   "source": [
    "ex) 농구팀을 프로그램으로 작성한다면?\n",
    "\n",
    "    객체 종류 : 팀, 선수, 심판, 공\n",
    "    \n",
    "    Action : (선수 - 공을 차다, 패스하다) (심판 - 휘슬을 불다, 경고를 주다)\n",
    "    \n",
    "    Attribute :  (선수 - 이름, 포지션, 소속팀) (팀 - 팀이름, 팀연고지, 팀소속선수)"
   ]
  },
  {
   "cell_type": "markdown",
   "id": "negative-arabic",
   "metadata": {},
   "source": [
    "## Attribute 추가하기\n",
    "    - __init__, self 와 함께 쓰면 된다.\n",
    "    - __init__은 객체 초기화 예약 함수"
   ]
  },
  {
   "cell_type": "code",
   "execution_count": 1,
   "id": "precious-vintage",
   "metadata": {},
   "outputs": [],
   "source": [
    "class SoccerPlayer(object):\n",
    "    def __init__(self,name,position,back_number):\n",
    "        self.name = name\n",
    "        self.position = position\n",
    "        self.back_number = back_number"
   ]
  },
  {
   "cell_type": "markdown",
   "id": "emotional-stopping",
   "metadata": {},
   "source": [
    "> 파이썬에서 __의 의미\n",
    "\n",
    "- __는 특수한 예약 함수나 변수, 함수명 변경을 위해 사용\n",
    "        ex) __main__  , __add__ , __st__ , __eq__"
   ]
  },
  {
   "cell_type": "code",
   "execution_count": 4,
   "id": "directed-stack",
   "metadata": {},
   "outputs": [],
   "source": [
    "class SoccerPlayer(object):\n",
    "    def __init__(self,name,position,back_number):\n",
    "        self.name = name\n",
    "        self.position = position\n",
    "        self.back_number = back_number\n",
    "\n",
    "    def __str__(self):# print문을 이 객체에 적용하게 되면 출력을 어떻게 할지 변경하는 함수\n",
    "        return \"Hello, My name is %s. I play in %s in center \" %  (self.name, self.position)"
   ]
  },
  {
   "cell_type": "code",
   "execution_count": 5,
   "id": "fluid-woman",
   "metadata": {},
   "outputs": [
    {
     "name": "stdout",
     "output_type": "stream",
     "text": [
      "Hello, My name is Jaehoon. I play in MF in center \n"
     ]
    }
   ],
   "source": [
    "jaehoon = SoccerPlayer(\"Jaehoon\", \"MF\" , 10)\n",
    "print(jaehoon)"
   ]
  },
  {
   "cell_type": "code",
   "execution_count": 36,
   "id": "hearing-portugal",
   "metadata": {},
   "outputs": [],
   "source": [
    "class SoccerPlayer(object):\n",
    "    def __init__(self, name, position, back_number):\n",
    "        self.name = name\n",
    "        self.position = position\n",
    "        self.back_number = back_number\n",
    "    def __str__(self):# print문을 이 객체에 적용하게 되면 출력을 어떻게 할지 변경 예약\n",
    "        return \"Hello, My name is %s. I play in %s in center \" %  (self.name, self.position)\n",
    "    def __add__(self,other): # 더하기 함수를 새로 정의해서 변경 예약\n",
    "        return self.name + other.name\n"
   ]
  },
  {
   "cell_type": "code",
   "execution_count": 27,
   "id": "friendly-surgeon",
   "metadata": {},
   "outputs": [],
   "source": [
    "abc = SoccerPlayer(\"son\",\"MF\",7)\n",
    "CHA = SoccerPlayer(\"CHA\",\"WF\",13)\n",
    "# qqq = SoccerPlayer()"
   ]
  },
  {
   "cell_type": "code",
   "execution_count": 30,
   "id": "spare-amsterdam",
   "metadata": {},
   "outputs": [
    {
     "name": "stdout",
     "output_type": "stream",
     "text": [
      "Hello, My name is CHA. I play in WF in center \n"
     ]
    }
   ],
   "source": [
    "print(CHA)"
   ]
  },
  {
   "cell_type": "code",
   "execution_count": 28,
   "id": "saving-barcelona",
   "metadata": {},
   "outputs": [
    {
     "data": {
      "text/plain": [
       "'sonCHA'"
      ]
     },
     "execution_count": 28,
     "metadata": {},
     "output_type": "execute_result"
    }
   ],
   "source": [
    "abc + CHA"
   ]
  },
  {
   "cell_type": "code",
   "execution_count": 29,
   "id": "dangerous-stick",
   "metadata": {},
   "outputs": [
    {
     "data": {
      "text/plain": [
       "False"
      ]
     },
     "execution_count": 29,
     "metadata": {},
     "output_type": "execute_result"
    }
   ],
   "source": [
    "abc is CHA # 당연히 다름, 메모리 저장 주소"
   ]
  },
  {
   "cell_type": "markdown",
   "id": "damaged-copyright",
   "metadata": {},
   "source": [
    "## method 구현하기\n",
    "- method(Action) 추가는 기존 함수와 같으나,\n",
    "- 반드시 self를 추가해야만 class 함수로 인정됨\n"
   ]
  },
  {
   "cell_type": "code",
   "execution_count": 43,
   "id": "wound-owner",
   "metadata": {},
   "outputs": [],
   "source": [
    "class SoccerPlayer(SoccerPlayer): # 위에서 상속 받아옴\n",
    "    def check_back_number(self,new_number):\n",
    "        print(f\"선수의 등번호를 변경합니다 : From {self.back_number} to {new_number}\")\n",
    "        self.back_number = new_number\n",
    "    def check_name(self,new_name):\n",
    "        print(f\"선수의 이름 변경합니다 : From {self.name} to {new_name}\")\n",
    "        self.name = new_name"
   ]
  },
  {
   "cell_type": "code",
   "execution_count": 44,
   "id": "suitable-guard",
   "metadata": {},
   "outputs": [],
   "source": [
    "jaehoon = SoccerPlayer(\"Jaehoon\", \"MF\" , 10)\n",
    "# 객체명 = #Class명    #__init__ 함수의 초기값들"
   ]
  },
  {
   "cell_type": "code",
   "execution_count": 46,
   "id": "grave-progress",
   "metadata": {},
   "outputs": [
    {
     "name": "stdout",
     "output_type": "stream",
     "text": [
      "선수의 등번호를 변경합니다 : From 10 to 5\n"
     ]
    }
   ],
   "source": [
    "jaehoon.check_back_number(5) # 메소드는 뒤에 . 점찍고 사용"
   ]
  },
  {
   "cell_type": "code",
   "execution_count": 49,
   "id": "unexpected-stability",
   "metadata": {},
   "outputs": [
    {
     "name": "stdout",
     "output_type": "stream",
     "text": [
      "현재 선수의 등번호는 5\n"
     ]
    }
   ],
   "source": [
    "print(f\"현재 선수의 등번호는 {jaehoon.back_number}\")"
   ]
  },
  {
   "cell_type": "code",
   "execution_count": 50,
   "id": "adaptive-tribe",
   "metadata": {},
   "outputs": [
    {
     "name": "stdout",
     "output_type": "stream",
     "text": [
      "선수의 이름 변경합니다 : From Jaehoon to JAEHOON\n"
     ]
    }
   ],
   "source": [
    "jaehoon.check_name(\"JAEHOON\") # 메소드는 뒤에 . 점찍고 사용"
   ]
  },
  {
   "cell_type": "code",
   "execution_count": 51,
   "id": "unable-contributor",
   "metadata": {},
   "outputs": [
    {
     "name": "stdout",
     "output_type": "stream",
     "text": [
      "현재 선수의 이름은 JAEHOON\n"
     ]
    }
   ],
   "source": [
    "print(f\"현재 선수의 이름은 {jaehoon.name}\")"
   ]
  },
  {
   "cell_type": "markdown",
   "id": "sapphire-probe",
   "metadata": {},
   "source": [
    "## 1.3 object(instance) 사용하기"
   ]
  },
  {
   "cell_type": "code",
   "execution_count": 52,
   "id": "helpful-printing",
   "metadata": {},
   "outputs": [],
   "source": [
    "## 위에서 하고 있던 self가 생성된 instance를 생성하는 예\n",
    "## abc, CHA, jaehoon 등과 같이 변수 만드는 것"
   ]
  },
  {
   "cell_type": "markdown",
   "id": "foreign-shape",
   "metadata": {},
   "source": [
    "## 구현 가능한 OOP 만들어보기 - 실습\n",
    "> implementation Example"
   ]
  },
  {
   "cell_type": "code",
   "execution_count": 217,
   "id": "nasty-phoenix",
   "metadata": {},
   "outputs": [],
   "source": [
    "class Note(object):\n",
    "    def __init__(self, content=None):\n",
    "        self.content = content\n",
    "        \n",
    "    def write_content(self,content):\n",
    "        self.content = content\n",
    "    \n",
    "    def remove_all(self):\n",
    "        self.content = \"\"\n",
    "        \n",
    "    def __add__(self,other):\n",
    "        return self.content + other.content\n",
    "\n",
    "    def __str__(self):\n",
    "        return self.content"
   ]
  },
  {
   "cell_type": "code",
   "execution_count": 229,
   "id": "liquid-composer",
   "metadata": {},
   "outputs": [],
   "source": [
    "class NoteBook(object):\n",
    "    def __init__(self, title):\n",
    "        self.title = title\n",
    "        self.page_number = 1\n",
    "        self.notes = {}\n",
    "\n",
    "    def add_note(self, note, page=0): # 페이지 입력이 없을 시 현재의 다음 페이지에 자동입력 \n",
    "        if self.page_number < 300:\n",
    "            if page == 0:\n",
    "                self.notes[self.page_number] = note\n",
    "                self.page_number += 1\n",
    "            else:\n",
    "                self.notes[page] = note\n",
    "                self.page_number +=1\n",
    "        else:\n",
    "            print(\"Page가 모두 채워졌습니다.\")\n",
    "\n",
    "    def remove_note(self, page_number):\n",
    "        if page_number in self.notes.keys():\n",
    "            return self.notes.pop(page_number)\n",
    "        else:\n",
    "            print(\"해당 페이지는 존재하지 않습니다\")\n",
    "        \n",
    "    def get_number_of_pages(self):\n",
    "        return len(self.notes.keys())\n",
    "\n",
    "    def __str__(self):\n",
    "        return self.title"
   ]
  },
  {
   "cell_type": "code",
   "execution_count": 230,
   "id": "numeric-mongolia",
   "metadata": {},
   "outputs": [
    {
     "data": {
      "text/plain": [
       "<__main__.NoteBook at 0x213b757a7c0>"
      ]
     },
     "execution_count": 230,
     "metadata": {},
     "output_type": "execute_result"
    }
   ],
   "source": [
    "my_notebook = NoteBook(\"팀랩 강의노트\")\n",
    "my_notebook"
   ]
  },
  {
   "cell_type": "code",
   "execution_count": 231,
   "id": "fifth-nudist",
   "metadata": {},
   "outputs": [
    {
     "data": {
      "text/plain": [
       "'팀랩 강의노트'"
      ]
     },
     "execution_count": 231,
     "metadata": {},
     "output_type": "execute_result"
    }
   ],
   "source": [
    "my_notebook.title"
   ]
  },
  {
   "cell_type": "code",
   "execution_count": 232,
   "id": "removed-prison",
   "metadata": {},
   "outputs": [
    {
     "name": "stdout",
     "output_type": "stream",
     "text": [
      "아 수업하기 싫다\n"
     ]
    }
   ],
   "source": [
    "new_note = Note(\"아 수업하기 싫다\")\n",
    "print(new_note)"
   ]
  },
  {
   "cell_type": "code",
   "execution_count": null,
   "id": "deadly-registrar",
   "metadata": {},
   "outputs": [],
   "source": []
  },
  {
   "cell_type": "code",
   "execution_count": 233,
   "id": "pressing-tackle",
   "metadata": {},
   "outputs": [],
   "source": [
    "my_notebook.add_note(new_note,page = 0)\n",
    "\n"
   ]
  },
  {
   "cell_type": "code",
   "execution_count": 234,
   "id": "progressive-bundle",
   "metadata": {},
   "outputs": [
    {
     "name": "stdout",
     "output_type": "stream",
     "text": [
      "팀랩 강의노트\n"
     ]
    }
   ],
   "source": [
    "print(my_notebook)"
   ]
  },
  {
   "cell_type": "code",
   "execution_count": 235,
   "id": "roman-elder",
   "metadata": {
    "scrolled": true
   },
   "outputs": [
    {
     "name": "stdout",
     "output_type": "stream",
     "text": [
      "아 수업하기 싫다\n"
     ]
    }
   ],
   "source": [
    "print(my_notebook.notes[1])"
   ]
  },
  {
   "cell_type": "code",
   "execution_count": 236,
   "id": "plastic-channels",
   "metadata": {},
   "outputs": [
    {
     "data": {
      "text/plain": [
       "1"
      ]
     },
     "execution_count": 236,
     "metadata": {},
     "output_type": "execute_result"
    }
   ],
   "source": [
    "my_notebook.get_number_of_pages()"
   ]
  },
  {
   "cell_type": "code",
   "execution_count": 237,
   "id": "regulated-senate",
   "metadata": {},
   "outputs": [],
   "source": [
    "## 노트 추가해보기"
   ]
  },
  {
   "cell_type": "code",
   "execution_count": 238,
   "id": "generous-multimedia",
   "metadata": {},
   "outputs": [
    {
     "name": "stdout",
     "output_type": "stream",
     "text": [
      "아 수업하기 좋다\n",
      "아 수업하기 좋다\n"
     ]
    }
   ],
   "source": [
    "new_note2 = Note(\"아 수업하기 좋다\")\n",
    "print(new_note2)\n",
    "\n",
    "my_notebook.notes[100] = new_note2\n",
    "print(my_notebook.notes[100])"
   ]
  },
  {
   "cell_type": "code",
   "execution_count": 239,
   "id": "oriental-nightmare",
   "metadata": {},
   "outputs": [
    {
     "data": {
      "text/plain": [
       "2"
      ]
     },
     "execution_count": 239,
     "metadata": {},
     "output_type": "execute_result"
    }
   ],
   "source": [
    "my_notebook.get_number_of_pages()"
   ]
  },
  {
   "cell_type": "code",
   "execution_count": 243,
   "id": "molecular-concept",
   "metadata": {},
   "outputs": [],
   "source": [
    "### 왜 난 add_note 메소드가 잘 안되지??\n",
    "## 고쳤다..."
   ]
  },
  {
   "cell_type": "code",
   "execution_count": 244,
   "id": "hollywood-senegal",
   "metadata": {},
   "outputs": [],
   "source": [
    "my_notebook.add_note(new_note,page = 10)\n",
    "my_notebook.add_note(new_note2,page = 101)"
   ]
  },
  {
   "cell_type": "code",
   "execution_count": 245,
   "id": "genuine-rendering",
   "metadata": {},
   "outputs": [
    {
     "data": {
      "text/plain": [
       "4"
      ]
     },
     "execution_count": 245,
     "metadata": {},
     "output_type": "execute_result"
    }
   ],
   "source": [
    "my_notebook.get_number_of_pages()"
   ]
  },
  {
   "cell_type": "code",
   "execution_count": null,
   "id": "passing-shaft",
   "metadata": {},
   "outputs": [],
   "source": []
  },
  {
   "cell_type": "markdown",
   "id": "brutal-halloween",
   "metadata": {},
   "source": [
    "## 상속 (Inheritance)\n",
    "- 부모클래스로부터 속성과 Method를 상속받은 자식클래스를 사용하는 것"
   ]
  },
  {
   "cell_type": "code",
   "execution_count": 246,
   "id": "immune-character",
   "metadata": {},
   "outputs": [],
   "source": [
    "class Person(object): # 부모 클래스 Person 선언\n",
    "    def __init__(self, name, age, gender):\n",
    "        self.name = name\n",
    "        self.age = age\n",
    "        self.gender = gender\n",
    "    def about_me(self): # Method 선언\n",
    "        print(\"저의 이름은 \", self.name, \"이구요, 제 나이는 \", str(self.age), \"살입니다.\")"
   ]
  },
  {
   "cell_type": "code",
   "execution_count": null,
   "id": "lonely-sense",
   "metadata": {},
   "outputs": [],
   "source": []
  },
  {
   "cell_type": "code",
   "execution_count": 247,
   "id": "authorized-librarian",
   "metadata": {},
   "outputs": [],
   "source": [
    "class Employee(Person): # 부모 클래스 Person으로 부터 상속\n",
    "    def __init__(self, name, age, gender, salary, hire_date):\n",
    "        super().__init__(name, age, gender) # 부모객체 사용\n",
    "        self.salary = salary\n",
    "        \n",
    "        self.hire_date = hire_date # 속성값 추가\n",
    "    def do_work(self): # 새로운 메서드 추가\n",
    "        print(\"열심히 일을 합니다.\")\n",
    "        \n",
    "    def about_me(self): # 부모 클래스 함수 재정의\n",
    "        super().about_me() # 부모 클래스 함수 그대로 사용\n",
    "        print(\"제 급여는 \", self.salary, \"원 이구요, 제 입사일은 \", self.hire_date,\n",
    "        \" 입니다.\")"
   ]
  },
  {
   "cell_type": "code",
   "execution_count": null,
   "id": "qualified-platform",
   "metadata": {},
   "outputs": [],
   "source": []
  },
  {
   "cell_type": "markdown",
   "id": "obvious-landscape",
   "metadata": {},
   "source": [
    "## 다형성\n",
    "- 같은 이름 메소드의 내부 로직을 다르게 작성\n",
    "- Dynamic Typing 특성으로 인해 파이썬에서는 같은 부모클래스의 상속에서 주로 발생함\n",
    "- 중요한 OOP의 개념 그러나 너무 깊이 알 필요X"
   ]
  },
  {
   "cell_type": "code",
   "execution_count": null,
   "id": "revised-amplifier",
   "metadata": {},
   "outputs": [],
   "source": [
    "# 상속을 받고, 상속을 받은 각 자식클래스의 메소드를 다르게 만드는 것"
   ]
  },
  {
   "cell_type": "code",
   "execution_count": 249,
   "id": "outdoor-poland",
   "metadata": {},
   "outputs": [
    {
     "name": "stdout",
     "output_type": "stream",
     "text": [
      "Missy: Meow!\n",
      "Mr. Mistoffelees: Meow!\n",
      "Lassie: Woof! Woof!\n"
     ]
    }
   ],
   "source": [
    "class Animal:\n",
    "    def __init__(self, name): # Constructor of the class\n",
    "        self.name = name\n",
    "    def talk(self): # Abstract method, defined by convention only\n",
    "        raise NotImplementedError(\"Subclass must implement abstract method\")\n",
    "        # 아직 만들어지지 않았다는 에러\n",
    "class Cat(Animal):\n",
    "    def talk(self):\n",
    "        return 'Meow!'\n",
    "class Dog(Animal):\n",
    "    def talk(self):\n",
    "        return 'Woof! Woof!'\n",
    "\n",
    "animals = [Cat('Missy'),\n",
    "    Cat('Mr. Mistoffelees'),\n",
    "    Dog('Lassie')]\n",
    "\n",
    "for animal in animals:\n",
    "    print(animal.name + ': ' + animal.talk())"
   ]
  },
  {
   "cell_type": "markdown",
   "id": "employed-seeking",
   "metadata": {},
   "source": [
    "## Visibility overview\n",
    "- 객체의 정보를 볼 수 있는 레벨을 조절하는 것\n",
    "- 누구나 객체 안에 모든 변수를 볼 필요가 없음\n",
    "\n",
    "    1) 객체를 사용하는 사용자가 임의로 정보 수정\n",
    "    \n",
    "    2) 필요 없는 정보에는 접근 할 필요가 없음\n",
    "    \n",
    "    3) 만약 제품으로 판매한다면? 소스의 보호"
   ]
  },
  {
   "cell_type": "code",
   "execution_count": 1,
   "id": "indie-diagnosis",
   "metadata": {},
   "outputs": [],
   "source": [
    "class Product(object):\n",
    "    pass"
   ]
  },
  {
   "cell_type": "code",
   "execution_count": 2,
   "id": "agricultural-frequency",
   "metadata": {},
   "outputs": [],
   "source": [
    "class Inventory(object):\n",
    "    def __init__(self):\n",
    "        self.__items = [] ## Private 변수로 선언, 타 객체가 접근을 못함\n",
    "    def add_new_item(self, product):\n",
    "        if type(product) == Product:\n",
    "            self.__items.append(product)\n",
    "            print(\"new item added\")\n",
    "        else:\n",
    "            raise ValueError(\"Invalid Item\")\n",
    "    def get_number_of_items(self):\n",
    "        return len(self.__items)\n"
   ]
  },
  {
   "cell_type": "markdown",
   "id": "dated-implement",
   "metadata": {},
   "source": [
    "### Encapsulation\n",
    "(인캡슐레이션)\n",
    "- 캡슐화 또는 정보 은닉 (Information Hiding)\n",
    "- Class를 설계할 때, 클래스 간 간섭/정보공유의 최소화\n",
    "- 심판 클래스가 축구선수 클래스 가족 정보를 알아야 하나?\n",
    "- 캡슐을 던지듯, 인터페이스만 알아서 써야함"
   ]
  },
  {
   "cell_type": "code",
   "execution_count": 7,
   "id": "configured-tourist",
   "metadata": {},
   "outputs": [],
   "source": [
    "# Visibility Example 1\n",
    "# Product 객체를 Inventory 객체에 추가\n",
    "# - Inventory에는 오직 Product 객체만 들어감\n",
    "# - Inventory에 Product가 몇 개인지 확인이 필요\n",
    "# - Inventory에 Product items는 직접 접근이 불가"
   ]
  },
  {
   "cell_type": "code",
   "execution_count": 8,
   "id": "adjacent-helicopter",
   "metadata": {},
   "outputs": [
    {
     "name": "stdout",
     "output_type": "stream",
     "text": [
      "new item added\n",
      "new item added\n",
      "2\n"
     ]
    }
   ],
   "source": [
    "\n",
    "\n",
    "my_inventory = Inventory()\n",
    "my_inventory.add_new_item(Product())\n",
    "my_inventory.add_new_item(Product())\n",
    "print(my_inventory.get_number_of_items())\n"
   ]
  },
  {
   "cell_type": "code",
   "execution_count": 9,
   "id": "competent-freeware",
   "metadata": {
    "scrolled": true
   },
   "outputs": [
    {
     "ename": "AttributeError",
     "evalue": "'Inventory' object has no attribute '__items'",
     "output_type": "error",
     "traceback": [
      "\u001b[1;31m---------------------------------------------------------------------------\u001b[0m",
      "\u001b[1;31mAttributeError\u001b[0m                            Traceback (most recent call last)",
      "\u001b[1;32m<ipython-input-9-2ee2db311dd0>\u001b[0m in \u001b[0;36m<module>\u001b[1;34m\u001b[0m\n\u001b[1;32m----> 1\u001b[1;33m \u001b[0mprint\u001b[0m\u001b[1;33m(\u001b[0m\u001b[0mmy_inventory\u001b[0m\u001b[1;33m.\u001b[0m\u001b[0m__items\u001b[0m\u001b[1;33m)\u001b[0m \u001b[1;31m#접근불가\u001b[0m\u001b[1;33m\u001b[0m\u001b[1;33m\u001b[0m\u001b[0m\n\u001b[0m",
      "\u001b[1;31mAttributeError\u001b[0m: 'Inventory' object has no attribute '__items'"
     ]
    }
   ],
   "source": [
    "print(my_inventory.__items) #접근불가"
   ]
  },
  {
   "cell_type": "code",
   "execution_count": 10,
   "id": "little-variety",
   "metadata": {},
   "outputs": [
    {
     "ename": "AttributeError",
     "evalue": "'Inventory' object has no attribute 'items'",
     "output_type": "error",
     "traceback": [
      "\u001b[1;31m---------------------------------------------------------------------------\u001b[0m",
      "\u001b[1;31mAttributeError\u001b[0m                            Traceback (most recent call last)",
      "\u001b[1;32m<ipython-input-10-c4c255a04bce>\u001b[0m in \u001b[0;36m<module>\u001b[1;34m\u001b[0m\n\u001b[1;32m----> 1\u001b[1;33m \u001b[0mprint\u001b[0m\u001b[1;33m(\u001b[0m\u001b[0mmy_inventory\u001b[0m\u001b[1;33m.\u001b[0m\u001b[0mitems\u001b[0m\u001b[1;33m)\u001b[0m \u001b[1;31m#접근불가\u001b[0m\u001b[1;33m\u001b[0m\u001b[1;33m\u001b[0m\u001b[0m\n\u001b[0m",
      "\u001b[1;31mAttributeError\u001b[0m: 'Inventory' object has no attribute 'items'"
     ]
    }
   ],
   "source": [
    "print(my_inventory.items) #접근불가"
   ]
  },
  {
   "cell_type": "code",
   "execution_count": 11,
   "id": "lined-chase",
   "metadata": {},
   "outputs": [
    {
     "ename": "ValueError",
     "evalue": "Invalid Item",
     "output_type": "error",
     "traceback": [
      "\u001b[1;31m---------------------------------------------------------------------------\u001b[0m",
      "\u001b[1;31mValueError\u001b[0m                                Traceback (most recent call last)",
      "\u001b[1;32m<ipython-input-11-79956cc78639>\u001b[0m in \u001b[0;36m<module>\u001b[1;34m\u001b[0m\n\u001b[1;32m----> 1\u001b[1;33m \u001b[0mmy_inventory\u001b[0m\u001b[1;33m.\u001b[0m\u001b[0madd_new_item\u001b[0m\u001b[1;33m(\u001b[0m\u001b[0mobject\u001b[0m\u001b[1;33m)\u001b[0m\u001b[1;33m\u001b[0m\u001b[1;33m\u001b[0m\u001b[0m\n\u001b[0m",
      "\u001b[1;32m<ipython-input-2-971e0452c295>\u001b[0m in \u001b[0;36madd_new_item\u001b[1;34m(self, product)\u001b[0m\n\u001b[0;32m      7\u001b[0m             \u001b[0mprint\u001b[0m\u001b[1;33m(\u001b[0m\u001b[1;34m\"new item added\"\u001b[0m\u001b[1;33m)\u001b[0m\u001b[1;33m\u001b[0m\u001b[1;33m\u001b[0m\u001b[0m\n\u001b[0;32m      8\u001b[0m         \u001b[1;32melse\u001b[0m\u001b[1;33m:\u001b[0m\u001b[1;33m\u001b[0m\u001b[1;33m\u001b[0m\u001b[0m\n\u001b[1;32m----> 9\u001b[1;33m             \u001b[1;32mraise\u001b[0m \u001b[0mValueError\u001b[0m\u001b[1;33m(\u001b[0m\u001b[1;34m\"Invalid Item\"\u001b[0m\u001b[1;33m)\u001b[0m\u001b[1;33m\u001b[0m\u001b[1;33m\u001b[0m\u001b[0m\n\u001b[0m\u001b[0;32m     10\u001b[0m     \u001b[1;32mdef\u001b[0m \u001b[0mget_number_of_items\u001b[0m\u001b[1;33m(\u001b[0m\u001b[0mself\u001b[0m\u001b[1;33m)\u001b[0m\u001b[1;33m:\u001b[0m\u001b[1;33m\u001b[0m\u001b[1;33m\u001b[0m\u001b[0m\n\u001b[0;32m     11\u001b[0m         \u001b[1;32mreturn\u001b[0m \u001b[0mlen\u001b[0m\u001b[1;33m(\u001b[0m\u001b[0mself\u001b[0m\u001b[1;33m.\u001b[0m\u001b[0m__items\u001b[0m\u001b[1;33m)\u001b[0m\u001b[1;33m\u001b[0m\u001b[1;33m\u001b[0m\u001b[0m\n",
      "\u001b[1;31mValueError\u001b[0m: Invalid Item"
     ]
    }
   ],
   "source": [
    "my_inventory.add_new_item(object)"
   ]
  },
  {
   "cell_type": "code",
   "execution_count": 12,
   "id": "stone-leather",
   "metadata": {},
   "outputs": [],
   "source": [
    "# Visibility Example 2\n",
    "# Product 객체를 Inventory 객체에 추가\n",
    "# Inventory에는 오직 Product 객체만 들어감\n",
    "# Inventory에 Product가 몇 개인지 확인이 필요\n",
    "# Inventory에 Product items 접근 허용"
   ]
  },
  {
   "cell_type": "code",
   "execution_count": 13,
   "id": "western-stuff",
   "metadata": {},
   "outputs": [],
   "source": [
    "class Inventory(object):\n",
    "    def __init__(self):\n",
    "        self.__items = []\n",
    "    @property\n",
    "    def items(self):\n",
    "        return self.__items"
   ]
  },
  {
   "cell_type": "code",
   "execution_count": 14,
   "id": "religious-premiere",
   "metadata": {},
   "outputs": [
    {
     "ename": "AttributeError",
     "evalue": "'Inventory' object has no attribute 'add_new_item'",
     "output_type": "error",
     "traceback": [
      "\u001b[1;31m---------------------------------------------------------------------------\u001b[0m",
      "\u001b[1;31mAttributeError\u001b[0m                            Traceback (most recent call last)",
      "\u001b[1;32m<ipython-input-14-6e69df2b252e>\u001b[0m in \u001b[0;36m<module>\u001b[1;34m\u001b[0m\n\u001b[0;32m      1\u001b[0m \u001b[0mmy_inventory\u001b[0m \u001b[1;33m=\u001b[0m \u001b[0mInventory\u001b[0m\u001b[1;33m(\u001b[0m\u001b[1;33m)\u001b[0m\u001b[1;33m\u001b[0m\u001b[1;33m\u001b[0m\u001b[0m\n\u001b[1;32m----> 2\u001b[1;33m \u001b[0mmy_inventory\u001b[0m\u001b[1;33m.\u001b[0m\u001b[0madd_new_item\u001b[0m\u001b[1;33m(\u001b[0m\u001b[0mProduct\u001b[0m\u001b[1;33m(\u001b[0m\u001b[1;33m)\u001b[0m\u001b[1;33m)\u001b[0m\u001b[1;33m\u001b[0m\u001b[1;33m\u001b[0m\u001b[0m\n\u001b[0m\u001b[0;32m      3\u001b[0m \u001b[0mmy_inventory\u001b[0m\u001b[1;33m.\u001b[0m\u001b[0madd_new_item\u001b[0m\u001b[1;33m(\u001b[0m\u001b[0mProduct\u001b[0m\u001b[1;33m(\u001b[0m\u001b[1;33m)\u001b[0m\u001b[1;33m)\u001b[0m\u001b[1;33m\u001b[0m\u001b[1;33m\u001b[0m\u001b[0m\n\u001b[0;32m      4\u001b[0m \u001b[0mprint\u001b[0m\u001b[1;33m(\u001b[0m\u001b[0mmy_inventory\u001b[0m\u001b[1;33m.\u001b[0m\u001b[0mget_number_of_items\u001b[0m\u001b[1;33m(\u001b[0m\u001b[1;33m)\u001b[0m\u001b[1;33m)\u001b[0m\u001b[1;33m\u001b[0m\u001b[1;33m\u001b[0m\u001b[0m\n",
      "\u001b[1;31mAttributeError\u001b[0m: 'Inventory' object has no attribute 'add_new_item'"
     ]
    }
   ],
   "source": [
    "my_inventory = Inventory()\n",
    "my_inventory.add_new_item(Product())\n",
    "my_inventory.add_new_item(Product())\n",
    "print(my_inventory.get_number_of_items())"
   ]
  },
  {
   "cell_type": "code",
   "execution_count": null,
   "id": "considered-harvey",
   "metadata": {},
   "outputs": [],
   "source": [
    "items = my_inventory.items\n",
    "items.append(Product())\n",
    "print(my_inventory.get_number_of_items())"
   ]
  },
  {
   "cell_type": "markdown",
   "id": "labeled-delivery",
   "metadata": {},
   "source": [
    "## decorate\n",
    "\n",
    "> 이해하기 위한 개념들\n",
    "\n",
    "        - First-Class Objects\n",
    "        - inner Function\n",
    "        - decorator"
   ]
  },
  {
   "cell_type": "code",
   "execution_count": null,
   "id": "opponent-tonight",
   "metadata": {},
   "outputs": [],
   "source": [
    "class Student:\n",
    "    def __init__(self, name, marks):\n",
    "        self.name = name\n",
    "        self.marks = marks\n",
    "        # self.gotmarks = self.name + ' obtained ' + self.marks + ' marks'\n",
    "    \n",
    "    @property\n",
    "    def gotmarks(self):\n",
    "        return self.name + ' obtained ' + self.marks + ' marks'\n"
   ]
  },
  {
   "cell_type": "markdown",
   "id": "derived-married",
   "metadata": {},
   "source": [
    "### First-Class Objects"
   ]
  },
  {
   "cell_type": "markdown",
   "id": "different-scholar",
   "metadata": {},
   "source": [
    "### inner Function"
   ]
  },
  {
   "cell_type": "markdown",
   "id": "sunrise-liabilities",
   "metadata": {},
   "source": [
    "- closures : inner function을 return값으로 반환"
   ]
  },
  {
   "cell_type": "code",
   "execution_count": 19,
   "id": "protecting-journal",
   "metadata": {
    "scrolled": true
   },
   "outputs": [
    {
     "data": {
      "text/plain": [
       "<function __main__.print_msg.<locals>.printer()>"
      ]
     },
     "execution_count": 19,
     "metadata": {},
     "output_type": "execute_result"
    }
   ],
   "source": [
    "def print_msg(msg):\n",
    "    def printer():\n",
    "        print(msg)\n",
    "    return printer\n",
    "another = print_msg(\"Hello, Python\")\n",
    "another"
   ]
  },
  {
   "cell_type": "code",
   "execution_count": 20,
   "id": "collected-regard",
   "metadata": {
    "scrolled": true
   },
   "outputs": [
    {
     "name": "stdout",
     "output_type": "stream",
     "text": [
      "Hello, Python\n"
     ]
    }
   ],
   "source": [
    "another()"
   ]
  },
  {
   "cell_type": "code",
   "execution_count": 17,
   "id": "fallen-extraction",
   "metadata": {},
   "outputs": [],
   "source": [
    "def tag_func(tag, text):\n",
    "    text = text\n",
    "    tag = tag\n",
    "    def inner_func():\n",
    "        return '<{0}>{1}<{0}>'.format(tag, text)\n",
    "    return inner_func\n",
    "h1_func = tag_func('title', \"This is Python Class\")\n",
    "p_func = tag_func('p', \"Data Academy\") "
   ]
  },
  {
   "cell_type": "markdown",
   "id": "assisted-designer",
   "metadata": {},
   "source": [
    "### decorator\n",
    "- 복잡한 클로져 함수를 간단하게!"
   ]
  },
  {
   "cell_type": "code",
   "execution_count": null,
   "id": "minor-radical",
   "metadata": {},
   "outputs": [],
   "source": [
    "def star(func):\n",
    "    def inner(*args, **kwargs):\n",
    "        print(\"*\" * 30)\n",
    "        func(*args, **kwargs)\n",
    "        print(\"*\" * 30)\n",
    "    return inner\n",
    "@star\n",
    "def printer(msg):\n",
    "    print(msg)\n",
    "printer(\"Hello\")"
   ]
  },
  {
   "cell_type": "code",
   "execution_count": null,
   "id": "backed-programmer",
   "metadata": {},
   "outputs": [],
   "source": [
    "def star(func):\n",
    "def inner(*args, **kwargs):\n",
    "print(\"*\" * 30)\n",
    "func(*args, **kwargs)\n",
    "print(\"*\" * 30)\n",
    "return inner\n",
    "def percent(func):\n",
    "def inner(*args, **kwargs):\n",
    "print(\"%\" * 30)\n",
    "func(*args, **kwargs)\n",
    "print(\"%\" * 30)\n",
    "return inner"
   ]
  },
  {
   "cell_type": "code",
   "execution_count": null,
   "id": "native-placement",
   "metadata": {},
   "outputs": [],
   "source": [
    "@star\n",
    "@percent\n",
    "def printer(msg):\n",
    "print(msg)\n",
    "printer(\"Hello\")"
   ]
  }
 ],
 "metadata": {
  "kernelspec": {
   "display_name": "Python 3",
   "language": "python",
   "name": "python3"
  },
  "language_info": {
   "codemirror_mode": {
    "name": "ipython",
    "version": 3
   },
   "file_extension": ".py",
   "mimetype": "text/x-python",
   "name": "python",
   "nbconvert_exporter": "python",
   "pygments_lexer": "ipython3",
   "version": "3.8.7"
  },
  "toc": {
   "base_numbering": 1,
   "nav_menu": {},
   "number_sections": true,
   "sideBar": true,
   "skip_h1_title": false,
   "title_cell": "Table of Contents",
   "title_sidebar": "Contents",
   "toc_cell": false,
   "toc_position": {},
   "toc_section_display": true,
   "toc_window_display": false
  }
 },
 "nbformat": 4,
 "nbformat_minor": 5
}
