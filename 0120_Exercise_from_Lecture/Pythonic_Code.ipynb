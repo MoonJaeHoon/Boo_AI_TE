{
 "cells": [
  {
   "cell_type": "markdown",
   "id": "unsigned-amazon",
   "metadata": {},
   "source": [
    "# Pythonic Code\n",
    "- 파이썬 특유의 문법을 활용하여 효율적으로 코드를 표현함\n",
    "- 고급 코드를 작성하기 위해선 필수적임"
   ]
  },
  {
   "cell_type": "markdown",
   "id": "exciting-thinking",
   "metadata": {},
   "source": [
    "> 바로 예시를 하나 보겠습니다\n",
    "\n"
   ]
  },
  {
   "cell_type": "code",
   "execution_count": 4,
   "id": "minimal-supplement",
   "metadata": {},
   "outputs": [
    {
     "data": {
      "text/plain": [
       "'redbluegreenblack'"
      ]
     },
     "execution_count": 4,
     "metadata": {},
     "output_type": "execute_result"
    }
   ],
   "source": [
    "# ex) 여러 단어들을 하나로 붙일 때\n",
    "\n",
    "colors = ['red','blue','green','black']\n",
    "result = ''\n",
    "for s in colors:\n",
    "    result+=s\n",
    "result"
   ]
  },
  {
   "cell_type": "code",
   "execution_count": 6,
   "id": "african-explosion",
   "metadata": {},
   "outputs": [
    {
     "data": {
      "text/plain": [
       "'redbluegreenblack'"
      ]
     },
     "execution_count": 6,
     "metadata": {},
     "output_type": "execute_result"
    }
   ],
   "source": [
    "# 아래의 코드가 for loop도 쓰지 않았고, 보기에도 깔끔하다\n",
    "colors = ['red','blue','green','black']\n",
    "result = ''.join(colors)\n",
    "result"
   ]
  },
  {
   "cell_type": "markdown",
   "id": "grave-authorization",
   "metadata": {},
   "source": [
    "> 이외의 pythonic 예시들\n",
    "\n",
    "        - split&join\n",
    "        - list comprehension\n",
    "        - enumerate & zip\n",
    "        - lambda & map & reduce\n",
    "        - generator\n",
    "        - asterisk"
   ]
  },
  {
   "cell_type": "markdown",
   "id": "prostate-productivity",
   "metadata": {},
   "source": [
    "> 왜 Pythonic Code를 쓰는가?\n",
    "\n",
    "        - 코드에 대한 이해도\n",
    "            * 많은 개발자들이 python 스타일로 코딩함.\n",
    "        - 효율\n",
    "            * 단순 for loop append보다 list-comprehension이 조금 더 빠르다\n",
    "            * 코드도 짧아진다."
   ]
  },
  {
   "cell_type": "code",
   "execution_count": null,
   "id": "quantitative-spiritual",
   "metadata": {},
   "outputs": [],
   "source": []
  }
 ],
 "metadata": {
  "kernelspec": {
   "display_name": "Python 3",
   "language": "python",
   "name": "python3"
  },
  "language_info": {
   "codemirror_mode": {
    "name": "ipython",
    "version": 3
   },
   "file_extension": ".py",
   "mimetype": "text/x-python",
   "name": "python",
   "nbconvert_exporter": "python",
   "pygments_lexer": "ipython3",
   "version": "3.8.7"
  },
  "toc": {
   "base_numbering": 1,
   "nav_menu": {},
   "number_sections": true,
   "sideBar": true,
   "skip_h1_title": false,
   "title_cell": "Table of Contents",
   "title_sidebar": "Contents",
   "toc_cell": false,
   "toc_position": {
    "height": "calc(100% - 180px)",
    "left": "10px",
    "top": "150px",
    "width": "165px"
   },
   "toc_section_display": true,
   "toc_window_display": false
  }
 },
 "nbformat": 4,
 "nbformat_minor": 5
}
